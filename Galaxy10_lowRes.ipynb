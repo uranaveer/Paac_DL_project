{
  "metadata": {
    "accelerator": "GPU",
    "colab": {
      "provenance": []
    },
    "kernelspec": {
      "name": "python3",
      "display_name": "Python 3",
      "language": "python"
    },
    "language_info": {
      "name": "python",
      "version": "3.10.12",
      "mimetype": "text/x-python",
      "codemirror_mode": {
        "name": "ipython",
        "version": 3
      },
      "pygments_lexer": "ipython3",
      "nbconvert_exporter": "python",
      "file_extension": ".py"
    }
  },
  "nbformat_minor": 0,
  "nbformat": 4,
  "cells": [
    {
      "cell_type": "markdown",
      "source": [
        "**Image Classification For Galaxy10**\n",
        "<br>To implement Classification model, Here I used CNN. to categorize astronomical pictures using prebuilt models in Tensorflow."
      ],
      "metadata": {
        "id": "xWMiq33wsNsm"
      }
    },
    {
      "cell_type": "markdown",
      "source": [
        "1. First Importing all, required librarires."
      ],
      "metadata": {
        "id": "TcSVyegmsNsq"
      }
    },
    {
      "cell_type": "code",
      "source": [
        "import tensorflow as tf\n",
        "\n",
        "from tensorflow.keras.layers import Dense, Flatten\n",
        "from tensorflow.keras import Model\n",
        "import numpy as np\n",
        "from sklearn.model_selection import train_test_split"
      ],
      "metadata": {
        "id": "0trJmd6DjqBZ",
        "execution": {
          "iopub.status.busy": "2023-10-18T17:30:17.108872Z",
          "iopub.execute_input": "2023-10-18T17:30:17.110047Z",
          "iopub.status.idle": "2023-10-18T17:30:26.870987Z",
          "shell.execute_reply.started": "2023-10-18T17:30:17.110000Z",
          "shell.execute_reply": "2023-10-18T17:30:26.870086Z"
        },
        "trusted": true
      },
      "execution_count": 1,
      "outputs": []
    },
    {
      "cell_type": "code",
      "source": [
        "from tensorflow import keras\n",
        "from tensorflow.keras import layers\n",
        "from tensorflow.keras.models import Sequential"
      ],
      "metadata": {
        "execution": {
          "iopub.status.busy": "2023-10-18T17:30:26.872713Z",
          "iopub.execute_input": "2023-10-18T17:30:26.873654Z",
          "iopub.status.idle": "2023-10-18T17:30:26.878542Z",
          "shell.execute_reply.started": "2023-10-18T17:30:26.873619Z",
          "shell.execute_reply": "2023-10-18T17:30:26.877688Z"
        },
        "trusted": true,
        "id": "_sdKxKWksNst"
      },
      "execution_count": 2,
      "outputs": []
    },
    {
      "cell_type": "code",
      "source": [
        "from tensorflow.keras.optimizers import Adam\n",
        "from tensorflow.keras.callbacks import LearningRateScheduler"
      ],
      "metadata": {
        "execution": {
          "iopub.status.busy": "2023-10-18T17:30:26.879851Z",
          "iopub.execute_input": "2023-10-18T17:30:26.880571Z",
          "iopub.status.idle": "2023-10-18T17:30:26.896004Z",
          "shell.execute_reply.started": "2023-10-18T17:30:26.880531Z",
          "shell.execute_reply": "2023-10-18T17:30:26.894296Z"
        },
        "trusted": true,
        "id": "vloQ_dB2sNsu"
      },
      "execution_count": 3,
      "outputs": []
    },
    {
      "cell_type": "code",
      "source": [
        "import matplotlib.pyplot as plt"
      ],
      "metadata": {
        "execution": {
          "iopub.status.busy": "2023-10-18T17:30:26.897982Z",
          "iopub.execute_input": "2023-10-18T17:30:26.899092Z",
          "iopub.status.idle": "2023-10-18T17:30:26.910049Z",
          "shell.execute_reply.started": "2023-10-18T17:30:26.899036Z",
          "shell.execute_reply": "2023-10-18T17:30:26.908916Z"
        },
        "trusted": true,
        "id": "FefFhg8isNsu"
      },
      "execution_count": 4,
      "outputs": []
    },
    {
      "cell_type": "markdown",
      "source": [
        "2. Loading data in images_data and labels_data. here im using kaggle environment. so, loading data is here will be according to it.\n",
        "<br>(ps: change the code here according to your working environment for loading the data.)"
      ],
      "metadata": {
        "id": "daBIhsvQsNsu"
      }
    },
    {
      "cell_type": "code",
      "source": [
        "from google.colab import drive\n",
        "drive.mount('/content/drive')"
      ],
      "metadata": {
        "colab": {
          "base_uri": "https://localhost:8080/"
        },
        "id": "l-n3vjfEtIfC",
        "outputId": "fdb96e54-8096-4a20-fa63-9731d4f64659"
      },
      "execution_count": 6,
      "outputs": [
        {
          "output_type": "stream",
          "name": "stdout",
          "text": [
            "Mounted at /content/drive\n"
          ]
        }
      ]
    },
    {
      "cell_type": "code",
      "source": [
        "labels_data=np.load('/content/drive/MyDrive/Datasets/labels1.npy' ,mmap_mode='r')\n",
        "labels_data.shape\n",
        "images_data=np.load('/content/drive/MyDrive/Datasets/images1.npy' ,mmap_mode='r')\n",
        "images_data.shape"
      ],
      "metadata": {
        "id": "JqFRS6K07jJs",
        "outputId": "eedefac2-530d-4d21-a966-970f1d0b4cb6",
        "colab": {
          "base_uri": "https://localhost:8080/"
        },
        "execution": {
          "iopub.status.busy": "2023-10-18T17:30:26.912395Z",
          "iopub.execute_input": "2023-10-18T17:30:26.912959Z",
          "iopub.status.idle": "2023-10-18T17:30:27.002411Z",
          "shell.execute_reply.started": "2023-10-18T17:30:26.912929Z",
          "shell.execute_reply": "2023-10-18T17:30:27.001276Z"
        },
        "trusted": true
      },
      "execution_count": 7,
      "outputs": [
        {
          "output_type": "execute_result",
          "data": {
            "text/plain": [
              "(21785, 69, 69, 3)"
            ]
          },
          "metadata": {},
          "execution_count": 7
        }
      ]
    },
    {
      "cell_type": "code",
      "source": [
        "images_data.shape\n",
        "images_data[0]"
      ],
      "metadata": {
        "execution": {
          "iopub.status.busy": "2023-10-18T17:30:27.003993Z",
          "iopub.execute_input": "2023-10-18T17:30:27.004741Z",
          "iopub.status.idle": "2023-10-18T17:30:27.014914Z",
          "shell.execute_reply.started": "2023-10-18T17:30:27.004698Z",
          "shell.execute_reply": "2023-10-18T17:30:27.013749Z"
        },
        "trusted": true,
        "colab": {
          "base_uri": "https://localhost:8080/"
        },
        "id": "IXTA6mPVsNsw",
        "outputId": "3bcea586-df23-4d1e-fd6a-adb1cf93a9b0"
      },
      "execution_count": 8,
      "outputs": [
        {
          "output_type": "execute_result",
          "data": {
            "text/plain": [
              "memmap([[[16, 18, 15],\n",
              "         [18, 20, 15],\n",
              "         [16, 17, 12],\n",
              "         ...,\n",
              "         [ 6,  6,  4],\n",
              "         [ 9,  9,  7],\n",
              "         [ 6,  6,  4]],\n",
              "\n",
              "        [[19, 24, 20],\n",
              "         [23, 25, 20],\n",
              "         [17, 18, 13],\n",
              "         ...,\n",
              "         [ 8,  5,  3],\n",
              "         [10,  8,  6],\n",
              "         [ 6,  6,  4]],\n",
              "\n",
              "        [[17, 22, 18],\n",
              "         [21, 24, 19],\n",
              "         [17, 18, 13],\n",
              "         ...,\n",
              "         [ 8,  4,  3],\n",
              "         [11,  8,  7],\n",
              "         [ 7,  6,  4]],\n",
              "\n",
              "        ...,\n",
              "\n",
              "        [[17, 14,  7],\n",
              "         [18, 17,  9],\n",
              "         [15, 14,  7],\n",
              "         ...,\n",
              "         [ 2,  4,  0],\n",
              "         [ 3,  5,  0],\n",
              "         [ 5,  7,  2]],\n",
              "\n",
              "        [[22, 14, 11],\n",
              "         [19, 14,  8],\n",
              "         [12,  9,  3],\n",
              "         ...,\n",
              "         [ 4,  7,  0],\n",
              "         [ 6,  9,  2],\n",
              "         [ 7, 10,  3]],\n",
              "\n",
              "        [[30, 12, 11],\n",
              "         [31, 14,  8],\n",
              "         [24,  9,  2],\n",
              "         ...,\n",
              "         [ 8, 11,  3],\n",
              "         [11, 14,  6],\n",
              "         [12, 15,  7]]], dtype=uint8)"
            ]
          },
          "metadata": {},
          "execution_count": 8
        }
      ]
    },
    {
      "cell_type": "markdown",
      "source": [
        "3. Spliting the data into, <br>x_train(image training set)<br>Y_train(labels training set)<br>x_test(image test/validation set)<br>Y_test(labels test/validation set)"
      ],
      "metadata": {
        "id": "pfkgi4kQsNsw"
      }
    },
    {
      "cell_type": "code",
      "source": [
        "x_train, x_test, y_train, y_test = train_test_split(images_data, labels_data, test_size=0.2, random_state=43)\n",
        "print(x_train.shape)\n",
        "print(y_train.shape)\n",
        "print(x_test.shape)\n",
        "print(y_test.shape)\n",
        "x_train[0]"
      ],
      "metadata": {
        "execution": {
          "iopub.status.busy": "2023-10-18T17:30:27.016115Z",
          "iopub.execute_input": "2023-10-18T17:30:27.016741Z",
          "iopub.status.idle": "2023-10-18T17:31:23.183422Z",
          "shell.execute_reply.started": "2023-10-18T17:30:27.016711Z",
          "shell.execute_reply": "2023-10-18T17:31:23.182287Z"
        },
        "trusted": true,
        "colab": {
          "base_uri": "https://localhost:8080/"
        },
        "id": "Rg-zJA8osNsw",
        "outputId": "c7348453-b284-4b34-dffa-ee486a76ab75"
      },
      "execution_count": 9,
      "outputs": [
        {
          "output_type": "stream",
          "name": "stdout",
          "text": [
            "(17428, 69, 69, 3)\n",
            "(17428,)\n",
            "(4357, 69, 69, 3)\n",
            "(4357,)\n"
          ]
        },
        {
          "output_type": "execute_result",
          "data": {
            "text/plain": [
              "array([[[12, 12, 10],\n",
              "        [ 8,  7,  5],\n",
              "        [ 8,  7,  5],\n",
              "        ...,\n",
              "        [ 2,  1,  0],\n",
              "        [ 2,  1,  0],\n",
              "        [ 3,  2,  0]],\n",
              "\n",
              "       [[ 7,  7,  5],\n",
              "        [ 3,  4,  2],\n",
              "        [ 4,  4,  2],\n",
              "        ...,\n",
              "        [ 1,  0,  0],\n",
              "        [ 1,  0,  0],\n",
              "        [ 2,  1,  0]],\n",
              "\n",
              "       [[ 2,  2,  1],\n",
              "        [ 1,  2,  0],\n",
              "        [ 2,  3,  1],\n",
              "        ...,\n",
              "        [ 3,  2,  0],\n",
              "        [ 4,  3,  1],\n",
              "        [ 5,  4,  2]],\n",
              "\n",
              "       ...,\n",
              "\n",
              "       [[ 9,  8,  6],\n",
              "        [ 8,  7,  5],\n",
              "        [ 6,  5,  3],\n",
              "        ...,\n",
              "        [ 5,  4,  2],\n",
              "        [ 2,  1,  0],\n",
              "        [ 4,  3,  1]],\n",
              "\n",
              "       [[ 7,  6,  4],\n",
              "        [ 8,  7,  5],\n",
              "        [ 6,  5,  3],\n",
              "        ...,\n",
              "        [ 8,  7,  5],\n",
              "        [ 5,  4,  2],\n",
              "        [ 3,  2,  1]],\n",
              "\n",
              "       [[ 5,  4,  2],\n",
              "        [ 5,  4,  2],\n",
              "        [ 6,  5,  3],\n",
              "        ...,\n",
              "        [ 9,  8,  6],\n",
              "        [ 7,  6,  4],\n",
              "        [ 4,  3,  1]]], dtype=uint8)"
            ]
          },
          "metadata": {},
          "execution_count": 9
        }
      ]
    },
    {
      "cell_type": "markdown",
      "source": [
        "4. Using Data agumentation for decreasing overfitting, adding images with flipped,rotated and zoomed to increase the data set, as it decreases the overfitting problem."
      ],
      "metadata": {
        "id": "WDk-4JQesNsx"
      }
    },
    {
      "cell_type": "code",
      "source": [
        "data_augmentation = keras.Sequential(\n",
        "  [\n",
        "    layers.RandomFlip(\"horizontal\",\n",
        "                      input_shape=(69,69,3)),\n",
        "    layers.RandomRotation(0.1),\n",
        "    layers.RandomZoom(0.1),\n",
        "  ]\n",
        ")"
      ],
      "metadata": {
        "execution": {
          "iopub.status.busy": "2023-10-18T17:31:23.185165Z",
          "iopub.execute_input": "2023-10-18T17:31:23.185609Z",
          "iopub.status.idle": "2023-10-18T17:31:23.790297Z",
          "shell.execute_reply.started": "2023-10-18T17:31:23.185577Z",
          "shell.execute_reply": "2023-10-18T17:31:23.788977Z"
        },
        "trusted": true,
        "id": "0NwVb-JVsNsx"
      },
      "execution_count": 21,
      "outputs": []
    },
    {
      "cell_type": "markdown",
      "source": [
        "5. Creating a model with adding layers, from starting with less complex to catch major details and increasing complex layers to catch small details. <br>Here using regularisation technique(dropout) to further decrease the problem of overfitting."
      ],
      "metadata": {
        "id": "6sZW24HdsNsx"
      }
    },
    {
      "cell_type": "code",
      "source": [
        "num_classes = 10\n",
        "\n",
        "model = Sequential([\n",
        "  data_augmentation,\n",
        "  layers.Rescaling(1./255),\n",
        "  layers.Conv2D(16, 3, padding='same', activation='relu'),\n",
        "  layers.MaxPooling2D(),\n",
        "  layers.Conv2D(32, 3, padding='same', activation='relu'),\n",
        "  layers.MaxPooling2D(),\n",
        "  layers.Conv2D(64, 3, padding='same', activation='relu'),\n",
        "  layers.MaxPooling2D(),\n",
        "  layers.Dropout(0.2),\n",
        "  layers.Flatten(),\n",
        "  layers.Dense(128, activation='relu'),\n",
        "  layers.Dense(num_classes, name=\"outputs\")\n",
        "])\n",
        "model.build(input_shape=(None,69, 69, 3))\n",
        "weights, bias = model.layers[-1].weights"
      ],
      "metadata": {
        "execution": {
          "iopub.status.busy": "2023-10-18T17:31:23.792662Z",
          "iopub.execute_input": "2023-10-18T17:31:23.793111Z",
          "iopub.status.idle": "2023-10-18T17:31:24.228089Z",
          "shell.execute_reply.started": "2023-10-18T17:31:23.793070Z",
          "shell.execute_reply": "2023-10-18T17:31:24.226598Z"
        },
        "trusted": true,
        "id": "8ihG_LsosNsy"
      },
      "execution_count": 22,
      "outputs": []
    },
    {
      "cell_type": "markdown",
      "source": [
        "6. Compiling model by using \"adam\" optimizer and  Sparse Categorical Crossentropy loss function and taking note of metrics like accuracy of model."
      ],
      "metadata": {
        "id": "BbYUeK-nsNsy"
      }
    },
    {
      "cell_type": "code",
      "source": [
        "model.compile(optimizer='adam',\n",
        "              loss=tf.keras.losses.SparseCategoricalCrossentropy(from_logits=True),\n",
        "              metrics=['accuracy'])"
      ],
      "metadata": {
        "execution": {
          "iopub.status.busy": "2023-10-18T17:31:24.229704Z",
          "iopub.execute_input": "2023-10-18T17:31:24.230034Z",
          "iopub.status.idle": "2023-10-18T17:31:24.255967Z",
          "shell.execute_reply.started": "2023-10-18T17:31:24.230009Z",
          "shell.execute_reply": "2023-10-18T17:31:24.254395Z"
        },
        "trusted": true,
        "id": "0Ji2jMadsNsy"
      },
      "execution_count": 23,
      "outputs": []
    },
    {
      "cell_type": "code",
      "source": [
        "model.summary()"
      ],
      "metadata": {
        "execution": {
          "iopub.status.busy": "2023-10-18T17:31:24.260324Z",
          "iopub.execute_input": "2023-10-18T17:31:24.260705Z",
          "iopub.status.idle": "2023-10-18T17:31:24.306572Z",
          "shell.execute_reply.started": "2023-10-18T17:31:24.260677Z",
          "shell.execute_reply": "2023-10-18T17:31:24.305356Z"
        },
        "trusted": true,
        "colab": {
          "base_uri": "https://localhost:8080/"
        },
        "id": "m5Pe5D-GsNsy",
        "outputId": "866b5a6c-2e7c-4cf3-cff6-e97c6ecd272d"
      },
      "execution_count": 24,
      "outputs": [
        {
          "output_type": "stream",
          "name": "stdout",
          "text": [
            "Model: \"sequential_4\"\n",
            "_________________________________________________________________\n",
            " Layer (type)                Output Shape              Param #   \n",
            "=================================================================\n",
            " sequential_3 (Sequential)   (None, 69, 69, 3)         0         \n",
            "                                                                 \n",
            " rescaling_2 (Rescaling)     (None, 69, 69, 3)         0         \n",
            "                                                                 \n",
            " conv2d_6 (Conv2D)           (None, 69, 69, 16)        448       \n",
            "                                                                 \n",
            " max_pooling2d_6 (MaxPoolin  (None, 34, 34, 16)        0         \n",
            " g2D)                                                            \n",
            "                                                                 \n",
            " conv2d_7 (Conv2D)           (None, 34, 34, 32)        4640      \n",
            "                                                                 \n",
            " max_pooling2d_7 (MaxPoolin  (None, 17, 17, 32)        0         \n",
            " g2D)                                                            \n",
            "                                                                 \n",
            " conv2d_8 (Conv2D)           (None, 17, 17, 64)        18496     \n",
            "                                                                 \n",
            " max_pooling2d_8 (MaxPoolin  (None, 8, 8, 64)          0         \n",
            " g2D)                                                            \n",
            "                                                                 \n",
            " dropout_2 (Dropout)         (None, 8, 8, 64)          0         \n",
            "                                                                 \n",
            " flatten_2 (Flatten)         (None, 4096)              0         \n",
            "                                                                 \n",
            " dense_2 (Dense)             (None, 128)               524416    \n",
            "                                                                 \n",
            " outputs (Dense)             (None, 10)                1290      \n",
            "                                                                 \n",
            "=================================================================\n",
            "Total params: 549290 (2.10 MB)\n",
            "Trainable params: 549290 (2.10 MB)\n",
            "Non-trainable params: 0 (0.00 Byte)\n",
            "_________________________________________________________________\n"
          ]
        }
      ]
    },
    {
      "cell_type": "markdown",
      "source": [
        "7. Finally training the model,<br> here i used changing learning rate for model to converge to minimum rather then fluctuating.<br> and a early stopping method to stop model training when model overfits or its performance decreases."
      ],
      "metadata": {
        "id": "03DSSP9osNsz"
      }
    },
    {
      "cell_type": "code",
      "source": [
        "initial_learning_rate = 0.001\n",
        "\n",
        "optimizer = Adam(learning_rate=initial_learning_rate)\n",
        "\n",
        "\n",
        "def lr_schedule(epoch, lr):\n",
        "    if epoch < 5:\n",
        "        return lr\n",
        "    else:\n",
        "        return lr * tf.math.exp(-0.1)\n",
        "\n",
        "lr_scheduler = LearningRateScheduler(lr_schedule)\n",
        "\n",
        "early_stopping = tf.keras.callbacks.EarlyStopping(monitor='val_loss', patience=3, restore_best_weights=True)\n",
        "\n",
        "history = model.fit(x_train, y_train, epochs=10,\n",
        "                    validation_data=(x_test, y_test),\n",
        "                    callbacks=[lr_scheduler, early_stopping])"
      ],
      "metadata": {
        "execution": {
          "iopub.status.busy": "2023-10-18T17:31:24.308676Z",
          "iopub.execute_input": "2023-10-18T17:31:24.309024Z",
          "iopub.status.idle": "2023-10-18T18:52:47.369067Z",
          "shell.execute_reply.started": "2023-10-18T17:31:24.308998Z",
          "shell.execute_reply": "2023-10-18T18:52:47.368009Z"
        },
        "trusted": true,
        "colab": {
          "base_uri": "https://localhost:8080/"
        },
        "id": "Pg4k_9BqsNsz",
        "outputId": "c50df93b-e2f9-4751-e81b-e839c3fbc2e0"
      },
      "execution_count": 28,
      "outputs": [
        {
          "output_type": "stream",
          "name": "stdout",
          "text": [
            "Epoch 1/15\n",
            "545/545 [==============================] - 4s 8ms/step - loss: 0.5528 - accuracy: 0.7960 - val_loss: 0.5347 - val_accuracy: 0.8054 - lr: 6.0653e-04\n",
            "Epoch 2/15\n",
            "545/545 [==============================] - 4s 8ms/step - loss: 0.5416 - accuracy: 0.8045 - val_loss: 0.5179 - val_accuracy: 0.8120 - lr: 6.0653e-04\n",
            "Epoch 3/15\n",
            "545/545 [==============================] - 5s 9ms/step - loss: 0.5385 - accuracy: 0.8065 - val_loss: 0.4909 - val_accuracy: 0.8217 - lr: 6.0653e-04\n",
            "Epoch 4/15\n",
            "545/545 [==============================] - 4s 8ms/step - loss: 0.5231 - accuracy: 0.8081 - val_loss: 0.5018 - val_accuracy: 0.8155 - lr: 6.0653e-04\n",
            "Epoch 5/15\n",
            "545/545 [==============================] - 4s 8ms/step - loss: 0.5173 - accuracy: 0.8092 - val_loss: 0.5266 - val_accuracy: 0.8070 - lr: 6.0653e-04\n",
            "Epoch 6/15\n",
            "545/545 [==============================] - 5s 9ms/step - loss: 0.5033 - accuracy: 0.8115 - val_loss: 0.5069 - val_accuracy: 0.8104 - lr: 5.4881e-04\n"
          ]
        }
      ]
    },
    {
      "cell_type": "markdown",
      "source": [
        "8. plotting the results from model training"
      ],
      "metadata": {
        "id": "CSuDmZlmsNsz"
      }
    },
    {
      "cell_type": "code",
      "source": [
        "\n",
        "acc = history.history['accuracy']\n",
        "val_acc = history.history['val_accuracy']\n",
        "\n",
        "loss = history.history['loss']\n",
        "val_loss = history.history['val_loss']\n",
        "\n",
        "epochs_range = range(1, len(acc) + 1)\n",
        "\n",
        "plt.figure(figsize=(12, 5))\n",
        "\n",
        "plt.subplot(1, 2, 1)\n",
        "plt.plot(epochs_range, acc, label='Training Accuracy')\n",
        "plt.plot(epochs_range, val_acc, label='Validation Accuracy')\n",
        "plt.legend(loc='lower right')\n",
        "plt.title('Training and Validation Accuracy')\n",
        "plt.xlabel('Epochs')\n",
        "plt.ylabel('Accuracy')\n",
        "\n",
        "plt.subplot(1, 2, 2)\n",
        "plt.plot(epochs_range, loss, label='Training Loss')\n",
        "plt.plot(epochs_range, val_loss, label='Validation Loss')\n",
        "plt.legend(loc='upper right')\n",
        "plt.title('Training and Validation Loss')\n",
        "plt.xlabel('Epochs')\n",
        "plt.ylabel('Loss')\n",
        "\n",
        "plt.show()\n"
      ],
      "metadata": {
        "execution": {
          "iopub.status.busy": "2023-10-18T18:52:47.370970Z",
          "iopub.execute_input": "2023-10-18T18:52:47.371684Z",
          "iopub.status.idle": "2023-10-18T18:52:47.975539Z",
          "shell.execute_reply.started": "2023-10-18T18:52:47.371645Z",
          "shell.execute_reply": "2023-10-18T18:52:47.974350Z"
        },
        "trusted": true,
        "colab": {
          "base_uri": "https://localhost:8080/",
          "height": 487
        },
        "id": "JnXVv4oVsNsz",
        "outputId": "77d963cb-44d8-4917-dc58-61fdaf616926"
      },
      "execution_count": 26,
      "outputs": [
        {
          "output_type": "display_data",
          "data": {
            "text/plain": [
              "<Figure size 1200x500 with 2 Axes>"
            ],
            "image/png": "[encoded data removed]"
          },
          "metadata": {}
        }
      ]
    },
    {
      "cell_type": "markdown",
      "source": [
        "9. Finally model evaluating by running it on test_data."
      ],
      "metadata": {
        "id": "qOP1eqJCsNsz"
      }
    },
    {
      "cell_type": "code",
      "source": [
        "test_loss, test_acc = model.evaluate(x_test,  y_test, verbose=2)\n",
        "print(test_acc)"
      ],
      "metadata": {
        "execution": {
          "iopub.status.busy": "2023-10-18T18:52:47.980849Z",
          "iopub.execute_input": "2023-10-18T18:52:47.981667Z",
          "iopub.status.idle": "2023-10-18T18:53:28.553415Z",
          "shell.execute_reply.started": "2023-10-18T18:52:47.981624Z",
          "shell.execute_reply": "2023-10-18T18:53:28.552535Z"
        },
        "trusted": true,
        "colab": {
          "base_uri": "https://localhost:8080/"
        },
        "id": "V2GO6cxdsNs0",
        "outputId": "43c3aed5-6815-4bb1-ca6a-bb815b387e2c"
      },
      "execution_count": 27,
      "outputs": [
        {
          "output_type": "stream",
          "name": "stdout",
          "text": [
            "137/137 - 0s - loss: 0.5160 - accuracy: 0.8164 - 368ms/epoch - 3ms/step\n",
            "0.816387414932251\n"
          ]
        }
      ]
    }
  ]
}